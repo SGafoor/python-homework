{
 "cells": [
  {
   "cell_type": "code",
   "execution_count": 54,
   "metadata": {},
   "outputs": [],
   "source": [
    "import pandas as pd\n",
    "import csv \n",
    "from pathlib import Path"
   ]
  },
  {
   "cell_type": "code",
   "execution_count": 55,
   "metadata": {},
   "outputs": [],
   "source": [
    "csvpath=Path(\"../data/data.csv\")\n",
    "df=\"data.csv\"\n",
    "\n"
   ]
  },
  {
   "cell_type": "code",
   "execution_count": 56,
   "metadata": {},
   "outputs": [],
   "source": [
    "#month and profit loss list\n",
    "months=[]\n",
    "profit_loss=[]\n"
   ]
  },
  {
   "cell_type": "code",
   "execution_count": 57,
   "metadata": {},
   "outputs": [],
   "source": [
    "with open(csvpath) as data:\n",
    "    csvreader=csv.reader(data)\n",
    "    fields=next(csvreader)\n",
    "    for row in csvreader:\n",
    "        months.append(str(row[0]))\n",
    "        profit_loss.append(int(row[1]))\n",
    "\n",
    "# total months in data set\n",
    "TotalMonths=len(months)\n",
    "\n",
    "# net profit/loss\n",
    "npl=0\n",
    "for x in profit_loss:\n",
    "    npl=npl+x\n",
    "    formatted_npl=format(npl,',.2f')\n",
    "#average profit/loss\n",
    "\n",
    "avg_monthly_change=[]\n",
    "prev_month_amt=0\n",
    "\n",
    "for x in range(len(profit_loss)):\n",
    "    if x==0:\n",
    "        prev_month_amt = profit_loss[x] \n",
    "    else:\n",
    "        monthly_fluc = profit_loss[x]  - prev_month_amt\n",
    "        avg_monthly_change.append(monthly_fluc)\n",
    "        prev_month_amt = profit_loss[x]\n",
    "        \n",
    "#print average month profit/loss \n",
    "length= len(avg_monthly_change)\n",
    "total= sum(avg_monthly_change)\n",
    "prev_month_amt=total/length\n",
    "formatted_prev_month_amt=format(prev_month_amt,'.2f')\n",
    "\n"
   ]
  },
  {
   "cell_type": "raw",
   "metadata": {},
   "source": []
  },
  {
   "cell_type": "code",
   "execution_count": 58,
   "metadata": {},
   "outputs": [],
   "source": [
    "# Min and Max profit/loss + month\n",
    "max_month=''\n",
    "max_month_amt_inc=0\n",
    "min_month=''\n",
    "min_month_amt_dec=0\n",
    "\n",
    "\n",
    "for x in range(len(avg_monthly_change)):\n",
    "    if avg_monthly_change[x] > int(max_month_amt_inc):\n",
    "        max_month_amt_inc=avg_monthly_change[x]\n",
    "        \n",
    "        \n",
    "    elif avg_monthly_change[x] < int(min_month_amt_dec):\n",
    "        min_month_amt_dec=avg_monthly_change[x]\n",
    "        \n"
   ]
  },
  {
   "cell_type": "code",
   "execution_count": null,
   "metadata": {},
   "outputs": [],
   "source": []
  },
  {
   "cell_type": "code",
   "execution_count": 59,
   "metadata": {},
   "outputs": [
    {
     "name": "stdout",
     "output_type": "stream",
     "text": [
      "\n",
      "Financial Analysis\n",
      "-------------------\n",
      "\n",
      "Total amount of months in the dataset:86\n",
      "Total net Profit/loss was:$ 38,382,578.00\n",
      "Total Profit/Loss over the entire period:$ -2315.12\n",
      "Max profit over the entire period was for:$ 1926159\n",
      "Greatest loss over the entire period was for:$ -2196167\n"
     ]
    }
   ],
   "source": [
    "print()\n",
    "print('Financial Analysis')\n",
    "print('-------------------')\n",
    "print()\n",
    "print(f'Total amount of months in the dataset:{TotalMonths}')\n",
    "#net total of profit/losses in the entire period\n",
    "print(f'Total net Profit/loss was:$',formatted_npl)\n",
    "print(f'Total Profit/Loss over the entire period:$',formatted_prev_month_amt)\n",
    "print(f'Max profit over the entire period was for:$',max_month_amt_inc)\n",
    "print(f'Greatest loss over the entire period was for:$',min_month_amt_dec)"
   ]
  },
  {
   "cell_type": "code",
   "execution_count": null,
   "metadata": {},
   "outputs": [],
   "source": []
  },
  {
   "cell_type": "code",
   "execution_count": null,
   "metadata": {},
   "outputs": [],
   "source": []
  },
  {
   "cell_type": "code",
   "execution_count": null,
   "metadata": {},
   "outputs": [],
   "source": []
  }
 ],
 "metadata": {
  "kernelspec": {
   "display_name": "Python 3",
   "language": "python",
   "name": "python3"
  },
  "language_info": {
   "codemirror_mode": {
    "name": "ipython",
    "version": 3
   },
   "file_extension": ".py",
   "mimetype": "text/x-python",
   "name": "python",
   "nbconvert_exporter": "python",
   "pygments_lexer": "ipython3",
   "version": "3.8.5"
  }
 },
 "nbformat": 4,
 "nbformat_minor": 4
}
